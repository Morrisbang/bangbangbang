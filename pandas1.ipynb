{
  "nbformat": 4,
  "nbformat_minor": 0,
  "metadata": {
    "colab": {
      "name": "pandas1.ipynb",
      "provenance": [],
      "collapsed_sections": [],
      "authorship_tag": "ABX9TyPVvMvx68JDMyCcbIs1JHzH",
      "include_colab_link": true
    },
    "kernelspec": {
      "name": "python3",
      "display_name": "Python 3"
    }
  },
  "cells": [
    {
      "cell_type": "markdown",
      "metadata": {
        "id": "view-in-github",
        "colab_type": "text"
      },
      "source": [
        "<a href=\"https://colab.research.google.com/github/Morrisbang/bangbangbang/blob/main/pandas1.ipynb\" target=\"_parent\"><img src=\"https://colab.research.google.com/assets/colab-badge.svg\" alt=\"Open In Colab\"/></a>"
      ]
    },
    {
      "cell_type": "markdown",
      "metadata": {
        "id": "eMVdFJe9O1Em"
      },
      "source": [
        "**pandas 기본 사용법**"
      ]
    },
    {
      "cell_type": "code",
      "metadata": {
        "colab": {
          "base_uri": "https://localhost:8080/"
        },
        "id": "v8m2nph1OMvP",
        "outputId": "89fbb4ab-8897-4e6b-8d6d-e2f07c15e6f3"
      },
      "source": [
        "import pandas as pd\n",
        "\n",
        "array = pd.Series(['사과', '바나나', '당근'], index=['a', 'b', 'c'])\n",
        "\n",
        "print(array)\n",
        "print(array['a'])\n",
        "\n",
        "#이렇게 하면 깔끔하게 2차원 배열로 출력됨"
      ],
      "execution_count": 1,
      "outputs": [
        {
          "output_type": "stream",
          "text": [
            "a     사과\n",
            "b    바나나\n",
            "c     당근\n",
            "dtype: object\n",
            "사과\n"
          ],
          "name": "stdout"
        }
      ]
    },
    {
      "cell_type": "code",
      "metadata": {
        "id": "wB9_8cT_Oz7x"
      },
      "source": [
        ""
      ],
      "execution_count": null,
      "outputs": []
    }
  ]
}